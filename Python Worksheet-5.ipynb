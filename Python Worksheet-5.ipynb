{
 "cells": [
  {
   "cell_type": "markdown",
   "metadata": {},
   "source": [
    "### Python Worksheet-5 Solution"
   ]
  },
  {
   "cell_type": "markdown",
   "metadata": {},
   "source": [
    "1. C\n",
    "2. D\n",
    "3. B\n",
    "4. D\n",
    "5. C\n",
    "6. D\n",
    "7. C\n",
    "8. C\n",
    "9. D\n",
    "10. D\n",
    "11. Lists is ordered collections of items and items in the list can be changed or replaced while Sets are unordered collections and items in the sets can't be changed or replaced"
   ]
  },
  {
   "cell_type": "markdown",
   "metadata": {},
   "source": [
    "#### 12."
   ]
  },
  {
   "cell_type": "code",
   "execution_count": 11,
   "metadata": {},
   "outputs": [
    {
     "name": "stdout",
     "output_type": "stream",
     "text": [
      "[1, 4, 9, 16, 25]\n"
     ]
    }
   ],
   "source": [
    "list=[1,2,3,4,5] \n",
    "for i in range(len(list)): \n",
    "    list[i]=list[i]**2 \n",
    "print(list) "
   ]
  },
  {
   "cell_type": "markdown",
   "metadata": {},
   "source": [
    "#### 13."
   ]
  },
  {
   "cell_type": "code",
   "execution_count": 17,
   "metadata": {},
   "outputs": [
    {
     "name": "stdout",
     "output_type": "stream",
     "text": [
      "[2, 4, 10, 20, 5]\n"
     ]
    }
   ],
   "source": [
    "duplicate = [2, 4, 10, 20, 5, 2, 20, 4]\n",
    "final_list = [] \n",
    "for num in duplicate: \n",
    "    if num not in final_list: \n",
    "        final_list.append(num)\n",
    "print(final_list)"
   ]
  },
  {
   "cell_type": "markdown",
   "metadata": {},
   "source": [
    "#### 14."
   ]
  },
  {
   "cell_type": "code",
   "execution_count": 18,
   "metadata": {},
   "outputs": [
    {
     "name": "stdout",
     "output_type": "stream",
     "text": [
      "Union : {0, 1, 2, 3, 4, 5, 6, 8}\n",
      "Intersection : {2, 4}\n",
      "Difference : {0, 8, 6}\n",
      "Symmetric difference : {0, 1, 3, 5, 6, 8}\n"
     ]
    }
   ],
   "source": [
    "A = {0, 2, 4, 6, 8}; \n",
    "B = {1, 2, 3, 4, 5}; \n",
    "  \n",
    "# union \n",
    "print(\"Union :\", A | B) \n",
    "  \n",
    "# intersection \n",
    "print(\"Intersection :\", A & B) \n",
    "  \n",
    "# difference \n",
    "print(\"Difference :\", A - B) \n",
    "  \n",
    "# symmetric difference \n",
    "print(\"Symmetric difference :\", A ^ B) "
   ]
  },
  {
   "cell_type": "markdown",
   "metadata": {},
   "source": [
    "#### 15."
   ]
  },
  {
   "cell_type": "code",
   "execution_count": 19,
   "metadata": {},
   "outputs": [
    {
     "data": {
      "text/plain": [
       "{'a', 'b', 'c', 'd', 'e', 'g'}"
      ]
     },
     "execution_count": 19,
     "metadata": {},
     "output_type": "execute_result"
    }
   ],
   "source": [
    "a1={'a','b','c','d','e'}\n",
    "a1.add('g')\n",
    "a1"
   ]
  }
 ],
 "metadata": {
  "kernelspec": {
   "display_name": "Python 3",
   "language": "python",
   "name": "python3"
  },
  "language_info": {
   "codemirror_mode": {
    "name": "ipython",
    "version": 3
   },
   "file_extension": ".py",
   "mimetype": "text/x-python",
   "name": "python",
   "nbconvert_exporter": "python",
   "pygments_lexer": "ipython3",
   "version": "3.7.4"
  }
 },
 "nbformat": 4,
 "nbformat_minor": 2
}
