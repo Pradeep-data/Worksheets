{
 "cells": [
  {
   "cell_type": "markdown",
   "metadata": {},
   "source": [
    "## Python Worksheet-4"
   ]
  },
  {
   "cell_type": "markdown",
   "metadata": {},
   "source": [
    "1.\tB\n",
    "2.\tB\n",
    "3.\tB\n",
    "4.\tD\n",
    "5.\tC\n",
    "6.\tB\n",
    "7.\tC\n",
    "8.\tA\n",
    "9.\tA and D\n",
    "10.\tA,B and D\n",
    "11.\tCompiles compiles the whole program code for a error at once while Interpreter checks the code line by line for the error and then deploys.\n",
    "    Python is an interpreted language.\n",
    "\n",
    "12. PYTHONPATH purpose is to correctly locate python packages and modules across your filesystem\n",
    "\n",
    "13. If we want to remove all the spaces characters from the string,we use replace function.\n",
    "    sentence = ' hello  apple'\n",
    "    sentence.replace(\" \", \"\")\n",
    "    O/P -> 'helloapple"
   ]
  },
  {
   "cell_type": "markdown",
   "metadata": {},
   "source": [
    "#### 14."
   ]
  },
  {
   "cell_type": "code",
   "execution_count": 11,
   "metadata": {},
   "outputs": [
    {
     "name": "stdout",
     "output_type": "stream",
     "text": [
      "Enter the number 123\n",
      "100 + 20 + 3\n"
     ]
    }
   ],
   "source": [
    "n=int(input(\"Enter the number \"))\n",
    "result = []\n",
    "for index, digit in enumerate(str(n)[::-1]):\n",
    "    if int(digit) != 0:\n",
    "        result.append(digit + ('0' * index))\n",
    "\n",
    "print(' + '.join(result[::-1]))"
   ]
  },
  {
   "cell_type": "markdown",
   "metadata": {},
   "source": [
    "#### 15."
   ]
  },
  {
   "cell_type": "code",
   "execution_count": 12,
   "metadata": {},
   "outputs": [
    {
     "name": "stdout",
     "output_type": "stream",
     "text": [
      "Enter a number: 153\n",
      "153 is an Armstrong number\n"
     ]
    }
   ],
   "source": [
    "num = int(input(\"Enter a number: \"))\n",
    "sum = 0\n",
    "\n",
    "temp = num\n",
    "while temp > 0:\n",
    "   digit = temp % 10\n",
    "   sum += digit ** 3\n",
    "   temp //= 10\n",
    "\n",
    "if num == sum:\n",
    "   print(num,\"is an Armstrong number\")\n",
    "else:\n",
    "   print(num,\"is not an Armstrong number\")"
   ]
  }
 ],
 "metadata": {
  "kernelspec": {
   "display_name": "Python 3",
   "language": "python",
   "name": "python3"
  },
  "language_info": {
   "codemirror_mode": {
    "name": "ipython",
    "version": 3
   },
   "file_extension": ".py",
   "mimetype": "text/x-python",
   "name": "python",
   "nbconvert_exporter": "python",
   "pygments_lexer": "ipython3",
   "version": "3.7.4"
  }
 },
 "nbformat": 4,
 "nbformat_minor": 2
}
