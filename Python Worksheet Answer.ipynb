{
 "cells": [
  {
   "cell_type": "markdown",
   "metadata": {},
   "source": [
    "## PYTHON WORKSHEET ANSWERS\n",
    "1. B\n",
    "2. C\n",
    "3. A\n",
    "4. A\n",
    "5. C\n",
    "6. C\n",
    "7. A\n",
    "8. B\n",
    "9. A,B and D\n",
    "10. A,C and D\n",
    "11. **List** and **Tuple** is an ordered collection of items. **Dictionary** is unordered collection. List and dictionaryobjects are mutable i.e. it is possible to add new item or delete and item from it.Tuple is an immutable object."
   ]
  },
  {
   "cell_type": "markdown",
   "metadata": {},
   "source": [
    "#### 12.\n",
    "Strings are immutable in python"
   ]
  },
  {
   "cell_type": "code",
   "execution_count": 1,
   "metadata": {},
   "outputs": [
    {
     "name": "stdout",
     "output_type": "stream",
     "text": [
      "I Love Python\n"
     ]
    }
   ],
   "source": [
    "#code to replace '+' by space\n",
    "string=\"I+Love+Python\"\n",
    "string=string.replace('+',' ')\n",
    "print(string)"
   ]
  },
  {
   "cell_type": "markdown",
   "metadata": {},
   "source": [
    "#### 13\n",
    "The ord() function returns the number representing the unicode code of a specified character."
   ]
  },
  {
   "cell_type": "code",
   "execution_count": 2,
   "metadata": {},
   "outputs": [
    {
     "name": "stdout",
     "output_type": "stream",
     "text": [
      "104\n"
     ]
    }
   ],
   "source": [
    "x=ord('h')\n",
    "print(x)"
   ]
  },
  {
   "cell_type": "markdown",
   "metadata": {},
   "source": [
    "Type function is used to get the datatype of the variables in python"
   ]
  },
  {
   "cell_type": "code",
   "execution_count": 3,
   "metadata": {},
   "outputs": [
    {
     "data": {
      "text/plain": [
       "int"
      ]
     },
     "execution_count": 3,
     "metadata": {},
     "output_type": "execute_result"
    }
   ],
   "source": [
    "type(x)"
   ]
  },
  {
   "cell_type": "markdown",
   "metadata": {},
   "source": [
    "#### 14."
   ]
  },
  {
   "cell_type": "code",
   "execution_count": 4,
   "metadata": {},
   "outputs": [
    {
     "name": "stdout",
     "output_type": "stream",
     "text": [
      "Enter the value of a=2\n",
      "Enter the value of a=5\n",
      "Enter the value of a=7\n",
      "The solution are (-1.25-1.3919410907075054j) and (-1.25+1.3919410907075054j)\n"
     ]
    }
   ],
   "source": [
    "#importing complex math module\n",
    "import cmath\n",
    "\n",
    "a=int(input(\"Enter the value of a=\"))\n",
    "b=int(input(\"Enter the value of a=\"))\n",
    "c=int(input(\"Enter the value of a=\"))\n",
    "\n",
    "# discriminant\n",
    "d=(b**2)-(4*a*c)\n",
    "\n",
    "# finding two solutions\n",
    "sol1=(-b-cmath.sqrt(d))/(2*a)\n",
    "sol2=(-b+cmath.sqrt(d))/(2*a)\n",
    "\n",
    "print('The solution are {0} and {1}'.format(sol1,sol2))"
   ]
  },
  {
   "cell_type": "markdown",
   "metadata": {},
   "source": [
    "#### 15."
   ]
  },
  {
   "cell_type": "code",
   "execution_count": 5,
   "metadata": {},
   "outputs": [
    {
     "name": "stdout",
     "output_type": "stream",
     "text": [
      "Enter the value of n=9\n",
      "The sum is 45\n"
     ]
    }
   ],
   "source": [
    "def add(n):\n",
    "   if n <= 1:\n",
    "       return n\n",
    "   else:\n",
    "       return n + add(n-1)\n",
    "\n",
    "n=int(input(\"Enter the value of n=\"))\n",
    "\n",
    "if n < 0:\n",
    "   print(\"Enter a positive number\")\n",
    "else:\n",
    "   print(\"The sum is\",add(n))"
   ]
  }
 ],
 "metadata": {
  "kernelspec": {
   "display_name": "Python 3",
   "language": "python",
   "name": "python3"
  },
  "language_info": {
   "codemirror_mode": {
    "name": "ipython",
    "version": 3
   },
   "file_extension": ".py",
   "mimetype": "text/x-python",
   "name": "python",
   "nbconvert_exporter": "python",
   "pygments_lexer": "ipython3",
   "version": "3.7.4"
  }
 },
 "nbformat": 4,
 "nbformat_minor": 2
}
