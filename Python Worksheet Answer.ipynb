{
 "cells": [
  {
   "cell_type": "markdown",
   "metadata": {},
   "source": [
    "## PYTHON WORKSHEET ANSWERS\n",
    "1. B\n",
    "2. C\n",
    "3. A\n",
    "4. A\n",
    "5. C\n",
    "6. C\n",
    "7. A\n",
    "8. B\n",
    "9. A,B and D\n",
    "10. A,C and D\n",
    "11. **List** and **Tuple** is an ordered collection of items. **Dictionary** is unordered collection. List and dictionaryobjects are mutable i.e. it is possible to add new item or delete and item from it.Tuple is an immutable object."
   ]
  },
  {
   "cell_type": "markdown",
   "metadata": {},
   "source": [
    "#### 12.\n",
    "Strings are immutable in python"
   ]
  },
  {
   "cell_type": "code",
   "execution_count": 8,
   "metadata": {},
   "outputs": [
    {
     "name": "stdout",
     "output_type": "stream",
     "text": [
      "I Love Python\n"
     ]
    }
   ],
   "source": [
    "#code to replace '+' by space\n",
    "string=\"I+Love+Python\"\n",
    "string=string.replace('+',' ')\n",
    "print(string)"
   ]
  },
  {
   "cell_type": "markdown",
   "metadata": {},
   "source": [
    "#### 13\n",
    "The ord() function returns the number representing the unicode code of a specified character."
   ]
  },
  {
   "cell_type": "code",
   "execution_count": 11,
   "metadata": {},
   "outputs": [
    {
     "name": "stdout",
     "output_type": "stream",
     "text": [
      "104\n"
     ]
    }
   ],
   "source": [
    "x=ord('h')\n",
    "print(x)"
   ]
  },
  {
   "cell_type": "markdown",
   "metadata": {},
   "source": [
    "Type function is used to get the datatype of the variables in python"
   ]
  },
  {
   "cell_type": "code",
   "execution_count": 13,
   "metadata": {},
   "outputs": [
    {
     "data": {
      "text/plain": [
       "int"
      ]
     },
     "execution_count": 13,
     "metadata": {},
     "output_type": "execute_result"
    }
   ],
   "source": [
    "type(x)"
   ]
  },
  {
   "cell_type": "markdown",
   "metadata": {},
   "source": [
    "#### 14."
   ]
  },
  {
   "cell_type": "code",
   "execution_count": 2,
   "metadata": {},
   "outputs": [
    {
     "name": "stdout",
     "output_type": "stream",
     "text": [
      "Enter the value of a=1\n",
      "Enter the value of a=5\n",
      "Enter the value of a=6\n",
      "The solution are (-3+0j) and (-2+0j)\n"
     ]
    }
   ],
   "source": [
    "#importing complex math module\n",
    "import cmath\n",
    "\n",
    "a=int(input(\"Enter the value of a=\"))\n",
    "b=int(input(\"Enter the value of a=\"))\n",
    "c=int(input(\"Enter the value of a=\"))\n",
    "\n",
    "# discriminant\n",
    "d=(b**2)-(4*a*c)\n",
    "\n",
    "# finding two solutions\n",
    "sol1=(-b-cmath.sqrt(d))/(2*a)\n",
    "sol2=(-b+cmath.sqrt(d))/(2*a)\n",
    "\n",
    "print('The solution are {0} and {1}'.format(sol1,sol2))"
   ]
  },
  {
   "cell_type": "markdown",
   "metadata": {},
   "source": [
    "#### 15."
   ]
  },
  {
   "cell_type": "code",
   "execution_count": 4,
   "metadata": {},
   "outputs": [
    {
     "name": "stdout",
     "output_type": "stream",
     "text": [
      "Enter the value of n: 10\n",
      "Sum of first 10 natural numbers is:  55\n"
     ]
    }
   ],
   "source": [
    "n=int(input(\"Enter the value of n: \"))\n",
    "temp=n\n",
    "sum=0\n",
    "\n",
    "if n<=0: \n",
    "   print(\"Enter a whole positive number!\") \n",
    "else: \n",
    "   while n > 0:\n",
    "        sum = sum+n\n",
    "        n = n-1;\n",
    "print(\"Sum of first\",temp, \"natural numbers is: \",sum)"
   ]
  }
 ],
 "metadata": {
  "kernelspec": {
   "display_name": "Python 3",
   "language": "python",
   "name": "python3"
  },
  "language_info": {
   "codemirror_mode": {
    "name": "ipython",
    "version": 3
   },
   "file_extension": ".py",
   "mimetype": "text/x-python",
   "name": "python",
   "nbconvert_exporter": "python",
   "pygments_lexer": "ipython3",
   "version": "3.7.4"
  }
 },
 "nbformat": 4,
 "nbformat_minor": 2
}
