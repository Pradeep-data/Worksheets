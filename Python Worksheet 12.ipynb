{
 "cells": [
  {
   "cell_type": "code",
   "execution_count": 1,
   "metadata": {},
   "outputs": [],
   "source": [
    "import pandas as pd\n",
    "import numpy as np\n",
    "d=pd.read_csv(\"D:/Fliprobo/Worksheets/Questions/data.csv\")\n",
    "xy=pd.DataFrame(d)"
   ]
  },
  {
   "cell_type": "markdown",
   "metadata": {},
   "source": [
    "#### 1.No.of Rows and Columns"
   ]
  },
  {
   "cell_type": "code",
   "execution_count": 2,
   "metadata": {},
   "outputs": [
    {
     "name": "stdout",
     "output_type": "stream",
     "text": [
      "Number of Rows: 23678\n",
      "Number of Columns: 21\n"
     ]
    }
   ],
   "source": [
    "rows = len(xy.axes[0]) \n",
    "cols = len(xy.axes[1]) \n",
    "  \n",
    "# Print the number of rows and columns \n",
    "print(\"Number of Rows: \" + str(rows)) \n",
    "print(\"Number of Columns: \" + str(cols))"
   ]
  },
  {
   "cell_type": "code",
   "execution_count": 3,
   "metadata": {},
   "outputs": [],
   "source": [
    "new=xy"
   ]
  },
  {
   "cell_type": "markdown",
   "metadata": {},
   "source": [
    "#### 2.Displaying datatypes of each column"
   ]
  },
  {
   "cell_type": "code",
   "execution_count": 4,
   "metadata": {},
   "outputs": [
    {
     "data": {
      "text/plain": [
       "Suburb            object\n",
       "Address           object\n",
       "Rooms            float64\n",
       "Type              object\n",
       "Price            float64\n",
       "Method            object\n",
       "SellerG           object\n",
       "Date              object\n",
       "Distance         float64\n",
       "Postcode         float64\n",
       "Bedroom2         float64\n",
       "Bathroom         float64\n",
       "Car              float64\n",
       "Landsize         float64\n",
       "BuildingArea     float64\n",
       "YearBuilt        float64\n",
       "CouncilArea       object\n",
       "Lattitude        float64\n",
       "Longtitude       float64\n",
       "Regionname        object\n",
       "Propertycount    float64\n",
       "dtype: object"
      ]
     },
     "execution_count": 4,
     "metadata": {},
     "output_type": "execute_result"
    }
   ],
   "source": [
    "xy.dtypes"
   ]
  },
  {
   "cell_type": "markdown",
   "metadata": {},
   "source": [
    "#### 3.No.of empty rows having all null values"
   ]
  },
  {
   "cell_type": "code",
   "execution_count": 5,
   "metadata": {},
   "outputs": [
    {
     "data": {
      "text/plain": [
       "31       21\n",
       "1145     21\n",
       "1348     21\n",
       "2119     21\n",
       "3277     21\n",
       "         ..\n",
       "22288    21\n",
       "22704    21\n",
       "22918    21\n",
       "23153    21\n",
       "23341    21\n",
       "Length: 131, dtype: int64"
      ]
     },
     "execution_count": 5,
     "metadata": {},
     "output_type": "execute_result"
    }
   ],
   "source": [
    "xy.isnull().sum(axis=1)[xy.isnull().sum(axis=1)==21]"
   ]
  },
  {
   "cell_type": "markdown",
   "metadata": {},
   "source": [
    "#### 4.Dropping the empty rows"
   ]
  },
  {
   "cell_type": "code",
   "execution_count": 6,
   "metadata": {},
   "outputs": [],
   "source": [
    "xy.drop((xy.isnull().sum(axis=1)[xy.isnull().sum(axis=1)==21]),inplace=True)"
   ]
  },
  {
   "cell_type": "code",
   "execution_count": 7,
   "metadata": {},
   "outputs": [
    {
     "data": {
      "text/plain": [
       "(23677, 21)"
      ]
     },
     "execution_count": 7,
     "metadata": {},
     "output_type": "execute_result"
    }
   ],
   "source": [
    "xy.shape"
   ]
  },
  {
   "cell_type": "markdown",
   "metadata": {},
   "source": [
    "#### 5.Column names with missing values"
   ]
  },
  {
   "cell_type": "code",
   "execution_count": 8,
   "metadata": {},
   "outputs": [
    {
     "data": {
      "text/plain": [
       "Suburb             131\n",
       "Address            131\n",
       "Rooms              131\n",
       "Type               131\n",
       "Price             5282\n",
       "Method             131\n",
       "SellerG            131\n",
       "Date               131\n",
       "Distance           132\n",
       "Postcode           132\n",
       "Bedroom2          4611\n",
       "Bathroom          4614\n",
       "Car               4756\n",
       "Landsize          6267\n",
       "BuildingArea     13659\n",
       "YearBuilt        12137\n",
       "CouncilArea       8021\n",
       "Lattitude         4434\n",
       "Longtitude        4434\n",
       "Regionname         132\n",
       "Propertycount      132\n",
       "dtype: int64"
      ]
     },
     "execution_count": 8,
     "metadata": {},
     "output_type": "execute_result"
    }
   ],
   "source": [
    "xy.isnull().sum()"
   ]
  },
  {
   "cell_type": "markdown",
   "metadata": {},
   "source": [
    "#### 6.Missing values and their percentage in each column"
   ]
  },
  {
   "cell_type": "code",
   "execution_count": 9,
   "metadata": {},
   "outputs": [
    {
     "data": {
      "text/plain": [
       "Suburb            0.553280\n",
       "Address           0.553280\n",
       "Rooms             0.553280\n",
       "Type              0.553280\n",
       "Price            22.308569\n",
       "Method            0.553280\n",
       "SellerG           0.553280\n",
       "Date              0.553280\n",
       "Distance          0.557503\n",
       "Postcode          0.557503\n",
       "Bedroom2         19.474596\n",
       "Bathroom         19.487266\n",
       "Car              20.087004\n",
       "Landsize         26.468725\n",
       "BuildingArea     57.688896\n",
       "YearBuilt        51.260717\n",
       "CouncilArea      33.876758\n",
       "Lattitude        18.727035\n",
       "Longtitude       18.727035\n",
       "Regionname        0.557503\n",
       "Propertycount     0.557503\n",
       "dtype: float64"
      ]
     },
     "execution_count": 9,
     "metadata": {},
     "output_type": "execute_result"
    }
   ],
   "source": [
    "data_miss=(xy.isna().sum()/len(xy))*100\n",
    "data_miss"
   ]
  },
  {
   "cell_type": "markdown",
   "metadata": {},
   "source": [
    "#### 7.Row indexes having missing values"
   ]
  },
  {
   "cell_type": "code",
   "execution_count": 10,
   "metadata": {},
   "outputs": [
    {
     "data": {
      "text/plain": [
       "0        3\n",
       "1        2\n",
       "2        0\n",
       "3        3\n",
       "4        0\n",
       "        ..\n",
       "23673    2\n",
       "23674    8\n",
       "23675    4\n",
       "23676    1\n",
       "23677    2\n",
       "Length: 23677, dtype: int64"
      ]
     },
     "execution_count": 10,
     "metadata": {},
     "output_type": "execute_result"
    }
   ],
   "source": [
    "xy.isnull().sum(axis=1)"
   ]
  },
  {
   "cell_type": "markdown",
   "metadata": {},
   "source": [
    "#### 8.Missing values and percentage at each row"
   ]
  },
  {
   "cell_type": "code",
   "execution_count": 11,
   "metadata": {},
   "outputs": [
    {
     "data": {
      "text/plain": [
       "0        0.142857\n",
       "1        0.095238\n",
       "2        0.000000\n",
       "3        0.142857\n",
       "4        0.000000\n",
       "           ...   \n",
       "23673    0.095238\n",
       "23674    0.380952\n",
       "23675    0.190476\n",
       "23676    0.047619\n",
       "23677    0.095238\n",
       "Length: 23677, dtype: float64"
      ]
     },
     "execution_count": 11,
     "metadata": {},
     "output_type": "execute_result"
    }
   ],
   "source": [
    "cols = len(xy.axes[1])\n",
    "data_miss_row=xy.isna().sum(axis=1)/cols\n",
    "data_miss_row"
   ]
  },
  {
   "cell_type": "markdown",
   "metadata": {},
   "source": [
    "#### 9.column names having more than 30% missing values and removal that values from the dataset"
   ]
  },
  {
   "cell_type": "code",
   "execution_count": 12,
   "metadata": {},
   "outputs": [
    {
     "data": {
      "text/plain": [
       "Suburb           False\n",
       "Address          False\n",
       "Rooms            False\n",
       "Type             False\n",
       "Price            False\n",
       "Method           False\n",
       "SellerG          False\n",
       "Date             False\n",
       "Distance         False\n",
       "Postcode         False\n",
       "Bedroom2         False\n",
       "Bathroom         False\n",
       "Car              False\n",
       "Landsize         False\n",
       "BuildingArea      True\n",
       "YearBuilt         True\n",
       "CouncilArea       True\n",
       "Lattitude        False\n",
       "Longtitude       False\n",
       "Regionname       False\n",
       "Propertycount    False\n",
       "dtype: bool"
      ]
     },
     "execution_count": 12,
     "metadata": {},
     "output_type": "execute_result"
    }
   ],
   "source": [
    "xy.isnull().sum()> 0.30*len(xy)"
   ]
  },
  {
   "cell_type": "code",
   "execution_count": 13,
   "metadata": {},
   "outputs": [],
   "source": [
    "#so we have three columns more than 30% of null data\n",
    "xy.drop(['BuildingArea','YearBuilt','CouncilArea'],axis=1,inplace=True)"
   ]
  },
  {
   "cell_type": "markdown",
   "metadata": {},
   "source": [
    "#### 10.the number and percentage of rows having more than 5 missing values and removal of the columns having less than 20% of missing values"
   ]
  },
  {
   "cell_type": "code",
   "execution_count": 14,
   "metadata": {},
   "outputs": [
    {
     "data": {
      "text/plain": [
       "Suburb            131\n",
       "Address           131\n",
       "Rooms             131\n",
       "Type              131\n",
       "Price            5282\n",
       "Method            131\n",
       "SellerG           131\n",
       "Date              131\n",
       "Distance          132\n",
       "Postcode          132\n",
       "Bedroom2         4611\n",
       "Bathroom         4614\n",
       "Car              4756\n",
       "Landsize         6267\n",
       "Lattitude        4434\n",
       "Longtitude       4434\n",
       "Regionname        132\n",
       "Propertycount     132\n",
       "dtype: int64"
      ]
     },
     "execution_count": 14,
     "metadata": {},
     "output_type": "execute_result"
    }
   ],
   "source": [
    "xy.isnull().sum()"
   ]
  },
  {
   "cell_type": "markdown",
   "metadata": {},
   "source": [
    "Here every rows have more than 5 missing values"
   ]
  },
  {
   "cell_type": "code",
   "execution_count": 15,
   "metadata": {},
   "outputs": [],
   "source": [
    "for col in xy.columns:\n",
    "    if xy[col].isnull().sum()<0.20*len(xy):\n",
    "        xy.drop([col],axis=1,inplace=True)"
   ]
  },
  {
   "cell_type": "code",
   "execution_count": 16,
   "metadata": {},
   "outputs": [
    {
     "data": {
      "text/html": [
       "<div>\n",
       "<style scoped>\n",
       "    .dataframe tbody tr th:only-of-type {\n",
       "        vertical-align: middle;\n",
       "    }\n",
       "\n",
       "    .dataframe tbody tr th {\n",
       "        vertical-align: top;\n",
       "    }\n",
       "\n",
       "    .dataframe thead th {\n",
       "        text-align: right;\n",
       "    }\n",
       "</style>\n",
       "<table border=\"1\" class=\"dataframe\">\n",
       "  <thead>\n",
       "    <tr style=\"text-align: right;\">\n",
       "      <th></th>\n",
       "      <th>Price</th>\n",
       "      <th>Car</th>\n",
       "      <th>Landsize</th>\n",
       "    </tr>\n",
       "  </thead>\n",
       "  <tbody>\n",
       "    <tr>\n",
       "      <td>0</td>\n",
       "      <td>NaN</td>\n",
       "      <td>1.0</td>\n",
       "      <td>126.0</td>\n",
       "    </tr>\n",
       "    <tr>\n",
       "      <td>1</td>\n",
       "      <td>1480000.0</td>\n",
       "      <td>1.0</td>\n",
       "      <td>202.0</td>\n",
       "    </tr>\n",
       "    <tr>\n",
       "      <td>2</td>\n",
       "      <td>1035000.0</td>\n",
       "      <td>0.0</td>\n",
       "      <td>156.0</td>\n",
       "    </tr>\n",
       "    <tr>\n",
       "      <td>3</td>\n",
       "      <td>NaN</td>\n",
       "      <td>1.0</td>\n",
       "      <td>0.0</td>\n",
       "    </tr>\n",
       "    <tr>\n",
       "      <td>4</td>\n",
       "      <td>1465000.0</td>\n",
       "      <td>0.0</td>\n",
       "      <td>134.0</td>\n",
       "    </tr>\n",
       "  </tbody>\n",
       "</table>\n",
       "</div>"
      ],
      "text/plain": [
       "       Price  Car  Landsize\n",
       "0        NaN  1.0     126.0\n",
       "1  1480000.0  1.0     202.0\n",
       "2  1035000.0  0.0     156.0\n",
       "3        NaN  1.0       0.0\n",
       "4  1465000.0  0.0     134.0"
      ]
     },
     "execution_count": 16,
     "metadata": {},
     "output_type": "execute_result"
    }
   ],
   "source": [
    "xy.head()"
   ]
  },
  {
   "cell_type": "code",
   "execution_count": 17,
   "metadata": {},
   "outputs": [],
   "source": [
    "#### 11.description of data and percentage of missing values still left column wise"
   ]
  },
  {
   "cell_type": "code",
   "execution_count": 18,
   "metadata": {},
   "outputs": [
    {
     "name": "stdout",
     "output_type": "stream",
     "text": [
      "<class 'pandas.core.frame.DataFrame'>\n",
      "Int64Index: 23677 entries, 0 to 23677\n",
      "Data columns (total 3 columns):\n",
      "Price       18395 non-null float64\n",
      "Car         18921 non-null float64\n",
      "Landsize    17410 non-null float64\n",
      "dtypes: float64(3)\n",
      "memory usage: 739.9 KB\n"
     ]
    }
   ],
   "source": [
    "#11\n",
    "xy.info()"
   ]
  },
  {
   "cell_type": "code",
   "execution_count": 19,
   "metadata": {},
   "outputs": [
    {
     "data": {
      "text/plain": [
       "Price       22.308569\n",
       "Car         20.087004\n",
       "Landsize    26.468725\n",
       "dtype: float64"
      ]
     },
     "execution_count": 19,
     "metadata": {},
     "output_type": "execute_result"
    }
   ],
   "source": [
    "(xy.isnull().sum()/len(xy))*100"
   ]
  },
  {
   "cell_type": "markdown",
   "metadata": {},
   "source": [
    "#### 12.Computing price column"
   ]
  },
  {
   "cell_type": "code",
   "execution_count": 20,
   "metadata": {},
   "outputs": [
    {
     "name": "stderr",
     "output_type": "stream",
     "text": [
      "C:\\Users\\Pradeep\\Anaconda3\\lib\\site-packages\\sklearn\\utils\\deprecation.py:66: DeprecationWarning: Class Imputer is deprecated; Imputer was deprecated in version 0.20 and will be removed in 0.22. Import impute.SimpleImputer from sklearn instead.\n",
      "  warnings.warn(msg, category=DeprecationWarning)\n"
     ]
    }
   ],
   "source": [
    "from sklearn.preprocessing import Imputer\n",
    "imp=Imputer(missing_values='NaN',strategy='mean')\n",
    "xy['Price']=imp.fit_transform(xy['Price'].values.reshape(-1,1))"
   ]
  },
  {
   "cell_type": "markdown",
   "metadata": {},
   "source": [
    "#### 13"
   ]
  },
  {
   "cell_type": "code",
   "execution_count": 21,
   "metadata": {},
   "outputs": [
    {
     "data": {
      "text/plain": [
       "Price        0.000000\n",
       "Car         20.087004\n",
       "Landsize    26.468725\n",
       "dtype: float64"
      ]
     },
     "execution_count": 21,
     "metadata": {},
     "output_type": "execute_result"
    }
   ],
   "source": [
    "(xy.isnull().sum()/len(xy))*100"
   ]
  },
  {
   "cell_type": "code",
   "execution_count": 22,
   "metadata": {},
   "outputs": [],
   "source": [
    "#Imputing landsize using mean values and car using mode values\n",
    "xy['Car']=xy['Car'].replace(np.NaN,xy['Car'].mode)\n",
    "xy['Landsize']=imp.fit_transform(xy['Landsize'].values.reshape(-1,1))"
   ]
  },
  {
   "cell_type": "markdown",
   "metadata": {},
   "source": [
    "#### 14"
   ]
  },
  {
   "cell_type": "code",
   "execution_count": 23,
   "metadata": {},
   "outputs": [
    {
     "name": "stdout",
     "output_type": "stream",
     "text": [
      "Total percentage of columns removed is 85.71428571428571\n"
     ]
    }
   ],
   "source": [
    "#we see we have 21 column at the start and now we are at the 3 column\n",
    "#18 columns has been removed till now\n",
    "print(\"Total percentage of columns removed is\",(18/21)*100)"
   ]
  }
 ],
 "metadata": {
  "kernelspec": {
   "display_name": "Python 3",
   "language": "python",
   "name": "python3"
  },
  "language_info": {
   "codemirror_mode": {
    "name": "ipython",
    "version": 3
   },
   "file_extension": ".py",
   "mimetype": "text/x-python",
   "name": "python",
   "nbconvert_exporter": "python",
   "pygments_lexer": "ipython3",
   "version": "3.7.4"
  }
 },
 "nbformat": 4,
 "nbformat_minor": 2
}
