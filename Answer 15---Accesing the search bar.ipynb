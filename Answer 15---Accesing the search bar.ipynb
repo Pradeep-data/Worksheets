{
 "cells": [
  {
   "cell_type": "markdown",
   "metadata": {},
   "source": [
    "### Python code for only accesing the search bar"
   ]
  },
  {
   "cell_type": "code",
   "execution_count": 24,
   "metadata": {},
   "outputs": [],
   "source": [
    "from selenium import webdriver\n",
    "driver = webdriver.Chrome('D:/Softwares/chromedriver.exe')\n",
    "driver.get(\"https://images.google.com/?gws_rd=ssl\")\n",
    "\n",
    "search_box = driver.find_element_by_css_selector('input.gLFyf')\n",
    "search_box.send_keys('Shraddha kapoor')"
   ]
  },
  {
   "cell_type": "markdown",
   "metadata": {},
   "source": [
    "### Python code to get the results through the web"
   ]
  },
  {
   "cell_type": "code",
   "execution_count": 23,
   "metadata": {},
   "outputs": [
    {
     "name": "stdout",
     "output_type": "stream",
     "text": [
      "Input the URL or string you want to search for:dogs\n"
     ]
    }
   ],
   "source": [
    "from selenium import webdriver \n",
    "\n",
    "string=input(\"Input the URL or string you want to search for:\") \n",
    "string=string.replace(' ','+')  \n",
    "  \n",
    "driver=webdriver.Chrome('D:/Softwares/chromedriver.exe') \n",
    "  \n",
    "matched_elements=driver.get(\"https://www.google.com/search?tbm=isch&source=hp&biw=1034&bih=586&ei=M25GX8WTNqXcz7sPjYa1cA&q=\" +\n",
    "                                     string)"
   ]
  }
 ],
 "metadata": {
  "kernelspec": {
   "display_name": "Python 3",
   "language": "python",
   "name": "python3"
  },
  "language_info": {
   "codemirror_mode": {
    "name": "ipython",
    "version": 3
   },
   "file_extension": ".py",
   "mimetype": "text/x-python",
   "name": "python",
   "nbconvert_exporter": "python",
   "pygments_lexer": "ipython3",
   "version": "3.7.4"
  }
 },
 "nbformat": 4,
 "nbformat_minor": 2
}
