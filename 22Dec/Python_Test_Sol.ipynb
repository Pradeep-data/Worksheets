{
 "cells": [
  {
   "cell_type": "markdown",
   "metadata": {},
   "source": [
    "#### 1"
   ]
  },
  {
   "cell_type": "code",
   "execution_count": 7,
   "metadata": {},
   "outputs": [],
   "source": [
    "import json\n",
    "data={'Name':'Rohit','Roll no':'101','CGPA':'8.6','Phone no':'7678579***'}\n",
    "with open(\"sample.json\", \"w\") as outfile:  \n",
    "    json.dump(data, outfile)"
   ]
  },
  {
   "cell_type": "markdown",
   "metadata": {},
   "source": [
    "#### 2"
   ]
  },
  {
   "cell_type": "code",
   "execution_count": 8,
   "metadata": {},
   "outputs": [
    {
     "name": "stdout",
     "output_type": "stream",
     "text": [
      "23j\n"
     ]
    }
   ],
   "source": [
    "class number:\n",
    "    def __init__(a,r=0,i=0):\n",
    "        a.real=r\n",
    "        a.imag=i\n",
    "    def get_data(a):\n",
    "        print(f'{a.real}{a.imag}j')\n",
    "num1=number(2,3)\n",
    "\n",
    "num1.get_data()"
   ]
  },
  {
   "cell_type": "markdown",
   "metadata": {},
   "source": [
    "#### 3"
   ]
  },
  {
   "cell_type": "code",
   "execution_count": 10,
   "metadata": {},
   "outputs": [
    {
     "name": "stdout",
     "output_type": "stream",
     "text": [
      "The decimal value of 8 is:\n",
      "0b1000\n"
     ]
    }
   ],
   "source": [
    "dec = 8\n",
    "\n",
    "print(\"The decimal value of\", dec, \"is:\")\n",
    "print(bin(dec))"
   ]
  },
  {
   "cell_type": "markdown",
   "metadata": {},
   "source": [
    "#### 4"
   ]
  },
  {
   "cell_type": "code",
   "execution_count": 18,
   "metadata": {},
   "outputs": [
    {
     "name": "stdout",
     "output_type": "stream",
     "text": [
      "True\n"
     ]
    }
   ],
   "source": [
    "import os.path\n",
    "open('read.txt', 'w')\n",
    "print(os.path.isfile('read.txt'))"
   ]
  },
  {
   "cell_type": "markdown",
   "metadata": {},
   "source": [
    "#### 5"
   ]
  },
  {
   "cell_type": "code",
   "execution_count": 22,
   "metadata": {},
   "outputs": [
    {
     "name": "stdout",
     "output_type": "stream",
     "text": [
      "Enter any number :121\n",
      "True\n"
     ]
    }
   ],
   "source": [
    "number=int(input(\"Enter any number :\"))\n",
    "\n",
    "temp=number\n",
    "\n",
    "reverse_num=0\n",
    "while(number>0):\n",
    "    \n",
    "    digit=number%10\n",
    "    \n",
    "    reverse_num=reverse_num*10+digit\n",
    "    \n",
    "    number=number//10\n",
    "\n",
    "if(temp==reverse_num):\n",
    "    print(\"True\")\n",
    "else:\n",
    "    print(\"False\")"
   ]
  },
  {
   "cell_type": "markdown",
   "metadata": {},
   "source": [
    "#### 6"
   ]
  },
  {
   "cell_type": "code",
   "execution_count": 26,
   "metadata": {},
   "outputs": [
    {
     "name": "stdout",
     "output_type": "stream",
     "text": [
      "enter the stringnitin\n",
      "True\n"
     ]
    }
   ],
   "source": [
    "def isPalindrome(s):\n",
    "    return s == s[::-1]\n",
    " \n",
    "s = input('enter the string')\n",
    "ans = isPalindrome(s)\n",
    " \n",
    "if ans:\n",
    "    print(\"True\")\n",
    "else:\n",
    "    print(\"False\")"
   ]
  },
  {
   "cell_type": "markdown",
   "metadata": {},
   "source": [
    "#### 7"
   ]
  },
  {
   "cell_type": "markdown",
   "metadata": {},
   "source": [
    "The **Dogpile effect** occurs when cache expires and websites are hit by numerous requests the same time. It is triggered because we allowed more than one request to execute the expensive query."
   ]
  },
  {
   "cell_type": "markdown",
   "metadata": {},
   "source": [
    "#### 8"
   ]
  },
  {
   "cell_type": "code",
   "execution_count": 30,
   "metadata": {},
   "outputs": [
    {
     "name": "stdout",
     "output_type": "stream",
     "text": [
      "Enter file name: as.txt\n",
      "hello world\n",
      "hello to you\n",
      "hello\n"
     ]
    }
   ],
   "source": [
    "filename=input(\"Enter file name: \")\n",
    "for line in reversed(list(open(filename))):\n",
    "    print(line.rstrip())"
   ]
  },
  {
   "cell_type": "markdown",
   "metadata": {},
   "source": [
    "#### 9"
   ]
  },
  {
   "cell_type": "raw",
   "metadata": {},
   "source": [
    "import urllib\n",
    "resource = urllib.urlopen(\"url of the image to be downloaded\")\n",
    "output = open(\"file01.jpg\",\"wb\")\n",
    "output.write(resource.read())\n",
    "output.close()"
   ]
  },
  {
   "cell_type": "markdown",
   "metadata": {},
   "source": [
    "#### 10"
   ]
  },
  {
   "cell_type": "markdown",
   "metadata": {},
   "source": [
    "A method defined within a class can either be an Accessor or a Mutator method. An accessor method is a function that returns a copy of an internal variable or computed value. A common practice is to name these with the word get. A mutator method is a function that modifies the value of an internal data variable in some way. The simplest form of mutator function is one that sets a variable directly to a new value. A common practice is to name these with the word set."
   ]
  },
  {
   "cell_type": "code",
   "execution_count": 31,
   "metadata": {},
   "outputs": [
    {
     "name": "stdout",
     "output_type": "stream",
     "text": [
      "3\n",
      "7\n"
     ]
    }
   ],
   "source": [
    "#Example\n",
    "class MyClass():\n",
    "    def __init__(self):\n",
    "        self.__my_attr = 3\n",
    "    def set_my_attr(self,val):\n",
    "        self.__my_attr = val\n",
    "    def get_my_attr(self):\n",
    "        return self.__my_attr\n",
    "obj1 = MyClass()\n",
    "print (obj1.get_my_attr())\n",
    "obj1.set_my_attr(7)\n",
    "print (obj1.get_my_attr())"
   ]
  },
  {
   "cell_type": "markdown",
   "metadata": {},
   "source": [
    "In the example above,\n",
    "\n",
    "The methods obj1.get_my_attr() is Accessor methods since it doesn’t alter the object a in any sense, but only pulls the relevant information. But obj1.set_my_attr(7) is a mutator method, since it effectively changes the object to a new one."
   ]
  },
  {
   "cell_type": "markdown",
   "metadata": {},
   "source": [
    "#### 11"
   ]
  },
  {
   "cell_type": "code",
   "execution_count": 32,
   "metadata": {},
   "outputs": [
    {
     "name": "stdout",
     "output_type": "stream",
     "text": [
      "Inside Parent\n",
      "Inside Child\n"
     ]
    }
   ],
   "source": [
    "# Python program to demonstrate method overriding \n",
    "  \n",
    "# Defining parent class \n",
    "class Parent(): \n",
    "      \n",
    "    # Constructor \n",
    "    def __init__(self): \n",
    "        self.value = \"Inside Parent\"\n",
    "           \n",
    "    def show(self): \n",
    "        print(self.value) \n",
    "          \n",
    "# Defining child class \n",
    "class Child(Parent): \n",
    "      \n",
    "    # Constructor \n",
    "    def __init__(self): \n",
    "        self.value = \"Inside Child\"\n",
    "          \n",
    "    def show(self): \n",
    "        print(self.value) \n",
    "          \n",
    "obj1 = Parent() \n",
    "obj2 = Child() \n",
    "  \n",
    "obj1.show() \n",
    "obj2.show() "
   ]
  }
 ],
 "metadata": {
  "kernelspec": {
   "display_name": "Python 3",
   "language": "python",
   "name": "python3"
  },
  "language_info": {
   "codemirror_mode": {
    "name": "ipython",
    "version": 3
   },
   "file_extension": ".py",
   "mimetype": "text/x-python",
   "name": "python",
   "nbconvert_exporter": "python",
   "pygments_lexer": "ipython3",
   "version": "3.7.4"
  }
 },
 "nbformat": 4,
 "nbformat_minor": 2
}
